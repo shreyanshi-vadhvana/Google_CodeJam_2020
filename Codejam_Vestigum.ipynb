{
 "cells": [
  {
   "cell_type": "code",
   "execution_count": 2,
   "metadata": {},
   "outputs": [
    {
     "name": "stdout",
     "output_type": "stream",
     "text": [
      "2\n",
      "3\n",
      "1 2 3 \n",
      "2 3 1\n",
      "3 1 2\n",
      "4\n",
      "1 2 3 4\n",
      "2 1 4 3\n",
      "3 4 1 2\n",
      "4 3 2 1\n",
      "Case #1: 6 0 0\n",
      "Case #2: 4 0 0\n"
     ]
    }
   ],
   "source": [
    "k = []\n",
    "r = []\n",
    "c = []\n",
    "T = int(input())\n",
    "if(1<=T and 100>=T):\n",
    "   \n",
    "    for i in range(0,T):\n",
    "        matrix = []\n",
    "        trace = 0\n",
    "        row = 0\n",
    "        col = 0\n",
    "        N = int(input())\n",
    "        if(2<=N and 100>=N):\n",
    "            for j in range(N):\n",
    "                x=input().split(\" \")\n",
    "                a=[]\n",
    "                for q in range(0,N):\n",
    "                        a.append(int(x[q]))\n",
    "                b = set(a)\n",
    "                if(len(b)!=N):\n",
    "                    row = row + 1\n",
    "                b.clear()\n",
    "                matrix.append(a)\n",
    "\n",
    "            for m in range(0, N):  \n",
    "                for n in range(0, N):\n",
    "                    if (m == n):\n",
    "                        trace = trace+matrix[m][n]\n",
    "           \n",
    "            for m in range(0, N):\n",
    "                co = set()\n",
    "                for n in range(0, N):\n",
    "                    co.add(matrix[n][m])\n",
    "                if(len(co)!=N):\n",
    "                    col = col + 1\n",
    "                co.clear()\n",
    "\n",
    "        k.append(trace)\n",
    "        r.append(row)\n",
    "        c.append(col)\n",
    "        \n",
    "for i in range(T):\n",
    "    print(\"Case #{0}: {1} {2} {3}\".format(i+1,k[i],r[i],c[i]))  \n"
   ]
  }
 ],
 "metadata": {
  "kernelspec": {
   "display_name": "Python 3",
   "language": "python",
   "name": "python3"
  },
  "language_info": {
   "codemirror_mode": {
    "name": "ipython",
    "version": 3
   },
   "file_extension": ".py",
   "mimetype": "text/x-python",
   "name": "python",
   "nbconvert_exporter": "python",
   "pygments_lexer": "ipython3",
   "version": "3.7.4"
  }
 },
 "nbformat": 4,
 "nbformat_minor": 2
}
