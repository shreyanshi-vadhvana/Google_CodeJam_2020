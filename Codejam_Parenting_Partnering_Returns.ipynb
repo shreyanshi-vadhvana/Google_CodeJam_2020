{
 "cells": [
  {
   "cell_type": "code",
   "execution_count": 13,
   "metadata": {},
   "outputs": [
    {
     "name": "stdout",
     "output_type": "stream",
     "text": [
      "2\n",
      "2 \n",
      "0 720\n",
      "720 1440\n",
      "case #1: CC\n",
      "3\n",
      "360 480\n",
      "420 540\n",
      "600 600\n",
      "case #2: CJC\n"
     ]
    }
   ],
   "source": [
    "t=int(input())\n",
    "\n",
    "def getkey0(item):\n",
    "    return item[0]\n",
    "def getkey2(item):\n",
    "    return item[2]\n",
    "\n",
    "li1=[]\n",
    "li2=[]\n",
    "\n",
    "for i in range(t):\n",
    "    n=int(input())\n",
    "    li1.clear()\n",
    "    for x in range(n):\n",
    "        li2=[]\n",
    "        li2=[int(a) for a in input().split(\" \")]\n",
    "        li2.append(x)\n",
    "        li1.append(li2)\n",
    "    li1.sort(key=getkey0)\n",
    "    \n",
    "    cs=-1\n",
    "    js=-1\n",
    "    \n",
    "    flag=True\n",
    "    for a in li1:\n",
    "        ti=a[0]\n",
    "        ts=a[1]\n",
    "        if cs==-1:\n",
    "            cs=ts\n",
    "            a.append('C')\n",
    "        elif ti>=cs:\n",
    "            cs=ts\n",
    "            a.append('C')\n",
    "        elif ti<cs and ti>=js:\n",
    "            js=ts\n",
    "            a.append('J')\n",
    "        elif ti<cs and ti<js:\n",
    "            flag=False\n",
    "            break\n",
    "    if flag==False:\n",
    "        str=\"IMPOSSIBLE\"\n",
    "    else:\n",
    "        str=\"\"\n",
    "        li1.sort(key=getkey2)\n",
    "        str=str.join([a[3] for a in li1])\n",
    "    print(\"case #{}: {}\".format(i+1,str))"
   ]
  },
  {
   "cell_type": "code",
   "execution_count": null,
   "metadata": {},
   "outputs": [],
   "source": []
  }
 ],
 "metadata": {
  "kernelspec": {
   "display_name": "Python 3",
   "language": "python",
   "name": "python3"
  },
  "language_info": {
   "codemirror_mode": {
    "name": "ipython",
    "version": 3
   },
   "file_extension": ".py",
   "mimetype": "text/x-python",
   "name": "python",
   "nbconvert_exporter": "python",
   "pygments_lexer": "ipython3",
   "version": "3.7.4"
  }
 },
 "nbformat": 4,
 "nbformat_minor": 2
}
