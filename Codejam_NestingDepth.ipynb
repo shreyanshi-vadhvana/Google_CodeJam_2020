{
 "cells": [
  {
   "cell_type": "code",
   "execution_count": 6,
   "metadata": {},
   "outputs": [
    {
     "name": "stdout",
     "output_type": "stream",
     "text": [
      "5\n",
      "123\n",
      "345\n",
      "100\n",
      "001\n",
      "46\n",
      "Case #1: (1(2(3)))\n",
      "Case #2: (((3(4(5)))))\n",
      "Case #3: (1)00\n",
      "Case #4: 00(1)\n",
      "Case #5: ((((4((6))))))\n"
     ]
    }
   ],
   "source": [
    "test=int(input())\n",
    "s=[]\n",
    "for i in range(test):\n",
    "    str1=input()\n",
    "    s.append(str1)\n",
    "for i in range(test):\n",
    "    y=0\n",
    "    st=list(s[i])\n",
    "    while y<(len(st)-1):\n",
    "        z=int(st[y])-int(st[y+1])\n",
    "        if z>0:\n",
    "            w=1\n",
    "            while w!=(z+1):\n",
    "                st.insert(y+w,')')\n",
    "                w=w+1\n",
    "        elif z<0:\n",
    "            w=1\n",
    "            while w!=(abs(z)+1):\n",
    "                st.insert(y+w,'(')\n",
    "                w=w+1\n",
    "        y=y+abs(z)\n",
    "        y=y+1\n",
    "    a=int(st[0])\n",
    "    b=int(st[-1])\n",
    "    while a!=0:\n",
    "        st.insert(0,'(')\n",
    "        a=a-1\n",
    "    while b!=0:\n",
    "        st.append(')')\n",
    "        b=b-1\n",
    "    s[i]=\"\".join(st)\n",
    "for i in range(len(s)):\n",
    "    print(\"Case #\"+str(i+1)+\": \"+s[i])"
   ]
  },
  {
   "cell_type": "code",
   "execution_count": null,
   "metadata": {},
   "outputs": [],
   "source": []
  }
 ],
 "metadata": {
  "kernelspec": {
   "display_name": "Python 3",
   "language": "python",
   "name": "python3"
  },
  "language_info": {
   "codemirror_mode": {
    "name": "ipython",
    "version": 3
   },
   "file_extension": ".py",
   "mimetype": "text/x-python",
   "name": "python",
   "nbconvert_exporter": "python",
   "pygments_lexer": "ipython3",
   "version": "3.7.4"
  }
 },
 "nbformat": 4,
 "nbformat_minor": 2
}
